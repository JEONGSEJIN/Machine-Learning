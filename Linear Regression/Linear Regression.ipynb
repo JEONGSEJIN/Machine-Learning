{
 "cells": [
  {
   "cell_type": "code",
   "execution_count": 96,
   "id": "de3e735d",
   "metadata": {},
   "outputs": [],
   "source": [
    "import numpy as np\n",
    "# import 모듈명 as 모듈명약자 : 모듈명을 불러오며, 모듈을 사용할 때 약자를 사용하는 방식\n",
    "# 행렬이나 일반적으로 대규모 다차원 배열을 쉽게 처리할 수 있게 해주는 파이썬 라이브러리\n",
    "# 배열 연산, 다차원 데이터 저장\n",
    "\n",
    "import pandas as pd\n",
    "# 데이터 처리와 분석을 하기 위한 라이브러리\n",
    "\n",
    "import matplotlib.pyplot as plt\n",
    "# 데이터의 시각화를 위해 그림을 그려주는 라이브러리인 matplotlib 모듈을 불러옴.\n",
    "# pyplot : 가장 기본적인 그래프를 그리는 명령어(2차원 그래프_좌표평면)"
   ]
  },
  {
   "cell_type": "code",
   "execution_count": 97,
   "id": "e13baec9",
   "metadata": {},
   "outputs": [
    {
     "data": {
      "text/html": [
       "<div>\n",
       "<style scoped>\n",
       "    .dataframe tbody tr th:only-of-type {\n",
       "        vertical-align: middle;\n",
       "    }\n",
       "\n",
       "    .dataframe tbody tr th {\n",
       "        vertical-align: top;\n",
       "    }\n",
       "\n",
       "    .dataframe thead th {\n",
       "        text-align: right;\n",
       "    }\n",
       "</style>\n",
       "<table border=\"1\" class=\"dataframe\">\n",
       "  <thead>\n",
       "    <tr style=\"text-align: right;\">\n",
       "      <th></th>\n",
       "      <th>x(inputs)</th>\n",
       "      <th>y(outputs)</th>\n",
       "    </tr>\n",
       "  </thead>\n",
       "  <tbody>\n",
       "    <tr>\n",
       "      <th>0</th>\n",
       "      <td>6.1101</td>\n",
       "      <td>17.5920</td>\n",
       "    </tr>\n",
       "    <tr>\n",
       "      <th>1</th>\n",
       "      <td>5.5277</td>\n",
       "      <td>9.1302</td>\n",
       "    </tr>\n",
       "    <tr>\n",
       "      <th>2</th>\n",
       "      <td>8.5186</td>\n",
       "      <td>13.6620</td>\n",
       "    </tr>\n",
       "    <tr>\n",
       "      <th>3</th>\n",
       "      <td>7.0032</td>\n",
       "      <td>11.8540</td>\n",
       "    </tr>\n",
       "    <tr>\n",
       "      <th>4</th>\n",
       "      <td>5.8598</td>\n",
       "      <td>6.8233</td>\n",
       "    </tr>\n",
       "  </tbody>\n",
       "</table>\n",
       "</div>"
      ],
      "text/plain": [
       "   x(inputs)  y(outputs)\n",
       "0     6.1101     17.5920\n",
       "1     5.5277      9.1302\n",
       "2     8.5186     13.6620\n",
       "3     7.0032     11.8540\n",
       "4     5.8598      6.8233"
      ]
     },
     "execution_count": 97,
     "metadata": {},
     "output_type": "execute_result"
    }
   ],
   "source": [
    "data_set = pd.read_csv(\"ex1data1.txt\", sep = \",\")\n",
    "# csv파일형태의 \",\"로 분리되어 저장된 데이터를 pandas로 읽어와서 data_set에 저장\n",
    "data_set.head()\n",
    "# head()는 데이터들을 앞이 5개(0번째부터 4번째)만 보여준다."
   ]
  },
  {
   "cell_type": "code",
   "execution_count": 98,
   "id": "76207345",
   "metadata": {},
   "outputs": [],
   "source": [
    "x = data_set.values[:,0]\n",
    "# 배열에서 첫 번째 열을 꺼내서 변수 x에 저장\n",
    "\n",
    "y = data_set.values[:,1]\n",
    "# 배열에서 두 번째 열을 꺼내서 변수 y에 저장"
   ]
  },
  {
   "cell_type": "code",
   "execution_count": 99,
   "id": "4034afd2",
   "metadata": {
    "scrolled": true
   },
   "outputs": [
    {
     "data": {
      "text/plain": [
       "Text(0.5, 1.0, 'Data Set in the Table')"
      ]
     },
     "execution_count": 99,
     "metadata": {},
     "output_type": "execute_result"
    },
    {
     "data": {
      "image/png": "[encoded data removed]",
      "text/plain": [
       "<Figure size 432x288 with 1 Axes>"
      ]
     },
     "metadata": {
      "needs_background": "light"
     },
     "output_type": "display_data"
    }
   ],
   "source": [
    "plt.scatter(x, y)\n",
    "# x, y에 저장된 데이터들을 뿌린다\n",
    "\n",
    "# 이때, 축들의 이름과 그래프의 이름을 지정해 주겠다.\n",
    "plt.xlabel(\"x(inputs)\")\n",
    "# 가로축(x축)을 x(inputs)라고 써줌.\n",
    "plt.ylabel(\"y(outouts)\")\n",
    "# 세로축(y축)을 y(outputs)라고 써줌.\n",
    "plt.title(\"Data Set in the Table\")"
   ]
  },
  {
   "cell_type": "code",
   "execution_count": 100,
   "id": "4dc62db6",
   "metadata": {},
   "outputs": [],
   "source": [
    "# 이제 본격적으로 위의 데이터들을 표현하는 함수를 선형으로 구현할 것이기 때문에\n",
    "# 1차 함수(직선함수)로 만들어준다."
   ]
  },
  {
   "cell_type": "code",
   "execution_count": 101,
   "id": "0f1991ef",
   "metadata": {},
   "outputs": [],
   "source": [
    "# 매개변수 theta_0와 theta_1을 아무 값이나 넣어서 초기화한다.\n",
    "theta_0 = np.random.rand()\n",
    "theta_1 = np.random.rand()"
   ]
  },
  {
   "cell_type": "code",
   "execution_count": 102,
   "id": "19c25003",
   "metadata": {},
   "outputs": [],
   "source": [
    "# 가설함수를 정의해줌.\n",
    "def h(x):\n",
    "    return theta_0 + theta_1*x\n",
    "\n",
    "# 가상의 선형함수. theta_0 = y절편, theta_1 = 기울기(매개변수라 불러도 됨.)"
   ]
  },
  {
   "cell_type": "code",
   "execution_count": 103,
   "id": "beff0f8f",
   "metadata": {},
   "outputs": [],
   "source": [
    "# 손실함수를 정의해줌. (손실은 즉, 실제값과 예측값의 오차를 말한다.)\n",
    "def J(x, y):\n",
    "    return (1/2)*np.sum((y-h(x))**2)\n",
    "\n",
    "# 실제 주어진 데이터의 결과값과 가설함수의 차이(오차)를 제곱한 것.\n",
    "# 1/2 를 곱해준 것은 미분값을 예쁘게 만들어주기 위한 것."
   ]
  },
  {
   "cell_type": "code",
   "execution_count": 104,
   "id": "b4568df4",
   "metadata": {},
   "outputs": [],
   "source": [
    "# 학습률\n",
    "learning_rate = 0.0001"
   ]
  },
  {
   "cell_type": "code",
   "execution_count": 105,
   "id": "50a0d752",
   "metadata": {},
   "outputs": [],
   "source": [
    "# 변화률 -> 가설(선형)함수의 기울기\n",
    "dev = 1\n",
    "# 변화율을 처음엔 1로 넣어두고 점차 0에 근접하게 줄여나간다.\n",
    "# -> 오차를 줄여나간다."
   ]
  },
  {
   "cell_type": "code",
   "execution_count": 106,
   "id": "3cbcd47c",
   "metadata": {},
   "outputs": [],
   "source": [
    "# 반복횟수(갱신 횟수)_손실횟수를 미분해서 theta_0과 theta_1의 갱신을 반복하는 횟수\n",
    "count = 1"
   ]
  },
  {
   "cell_type": "code",
   "execution_count": 107,
   "id": "17dccc0a",
   "metadata": {},
   "outputs": [],
   "source": [
    "# 본격적으로 선형회귀를 추정한다.\n",
    "\n",
    "error = J(x, y)                                            # 실제 값(data_set)을 넣어서 가설함수와 손실함수의 오차를 errord에 저장해준다.\n",
    "                                                           # (처음 오차)\n",
    "while dev > 0.01:                                          # 변화율이 0에 근접할 때까지 while문을 돌면서 반복한다.\n",
    "    temp_0 = theta_0 - learning_rate*np.sum(h(x)-y)        # 손실함수를 theta_0에 대해 미분하고 실제값을 넣어 갱신한 값을 temp_0에 저장.\n",
    "    temp_1 = theta_1 - learning_rate*np.sum((h(x)-y)*x)    # 손실함수를 theta_1에 대해 미분하고 실제값을 넣어 갱신한 값을 temp_1에 저장.\n",
    "    theta_0 = temp_0                                       # 갱신되어 저장한 값을 다시 또 변화율을 0에 근접시키기 위해 theta_0에 저장.\n",
    "    theta_1 = temp_1                                       # 갱신되어 저장한 값을 다시 또 변화율을 0에 근접시키기 위해 theta_1에 저장.\n",
    "    error_next = J(x, y)                                   # 갱신되어 저장된 값으로 만들어진 오차(나중 오차).\n",
    "    dev = error - error_next                               # 변화율 = 처음오차 - 나중 오차.\n",
    "    error = error_next                                     # 갱신 반복을 위해 나중 오차를 처음 오차에 저장해준다."
   ]
  },
  {
   "cell_type": "code",
   "execution_count": 108,
   "id": "328ee1c3",
   "metadata": {},
   "outputs": [
    {
     "name": "stdout",
     "output_type": "stream",
     "text": [
      "-3.327991746700669 1.135993067213601 0.009981956093326971 437.1131440014737\n"
     ]
    }
   ],
   "source": [
    "print(theta_0, theta_1, dev, error)\n",
    "# 가장 최적인 theta_0와 theta_1, dev, error를 출력해 본다."
   ]
  },
  {
   "cell_type": "code",
   "execution_count": 109,
   "id": "5ccb8997",
   "metadata": {
    "scrolled": true
   },
   "outputs": [
    {
     "data": {
      "text/plain": [
       "[<matplotlib.lines.Line2D at 0x1a6ff417a30>]"
      ]
     },
     "execution_count": 109,
     "metadata": {},
     "output_type": "execute_result"
    },
    {
     "data": {
      "image/png": "[encoded data removed]",
      "text/plain": [
       "<Figure size 432x288 with 1 Axes>"
      ]
     },
     "metadata": {
      "needs_background": "light"
     },
     "output_type": "display_data"
    }
   ],
   "source": [
    "plt.scatter(x, y)\n",
    "# x, y에 저장된 데이터들을 뿌린다.\n",
    "\n",
    "# 이때 축들의 이름과 그래프의 이름을 지정해 주겠다.\n",
    "\n",
    "plt.xlabel(\"x(inputs)\")\n",
    "# 가로측(x축)을 x(inputs)라고 써줌.\n",
    "plt.ylabel(\"y(outputs)\")\n",
    "# 세로측(y축)을 y(outputs)라고 써줌.\n",
    "plt.title(\"Data Set in the Table_(by.Point&Line)\")\n",
    "# 데이터들을 가장 잘 표현해 줄 선형 회귀선도 그려준다.\n",
    "plt.plot(x, h(x), color='red')"
   ]
  }
 ],
 "metadata": {
  "kernelspec": {
   "display_name": "Python 3",
   "language": "python",
   "name": "python3"
  },
  "language_info": {
   "codemirror_mode": {
    "name": "ipython",
    "version": 3
   },
   "file_extension": ".py",
   "mimetype": "text/x-python",
   "name": "python",
   "nbconvert_exporter": "python",
   "pygments_lexer": "ipython3",
   "version": "3.9.1"
  }
 },
 "nbformat": 4,
 "nbformat_minor": 5
}
