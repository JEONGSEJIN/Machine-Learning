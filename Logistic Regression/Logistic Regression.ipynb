{
 "cells": [
  {
   "cell_type": "code",
   "execution_count": 29,
   "id": "1da78397",
   "metadata": {},
   "outputs": [],
   "source": [
    "import numpy as np\n",
    "# 데이터 처리와 수학적 이용을 위해 만들어진 라이브러리인 numpy 모듈을 불러옴.\n",
    "# as 다음에 오는 것은 모듈 사용시 일일히 치기 귀찮기 때문에 줄여서 부르기 위해 'as~' 해 주는 것이다.\n",
    "\n",
    "import pandas as pd\n",
    "# 데이터를 불러오기 위해 만들어진 라이브러인 pandas 모듈을 불러옴.\n",
    "\n",
    "import matplotlib.pyplot as plt\n",
    "# 데이터의 시각화를 위해 그림을 그려주는 라이브러리인 matplotlib 모듈을 불러옴."
   ]
  },
  {
   "cell_type": "code",
   "execution_count": 30,
   "id": "fa2dc752",
   "metadata": {},
   "outputs": [
    {
     "data": {
      "text/html": [
       "<div>\n",
       "<style scoped>\n",
       "    .dataframe tbody tr th:only-of-type {\n",
       "        vertical-align: middle;\n",
       "    }\n",
       "\n",
       "    .dataframe tbody tr th {\n",
       "        vertical-align: top;\n",
       "    }\n",
       "\n",
       "    .dataframe thead th {\n",
       "        text-align: right;\n",
       "    }\n",
       "</style>\n",
       "<table border=\"1\" class=\"dataframe\">\n",
       "  <thead>\n",
       "    <tr style=\"text-align: right;\">\n",
       "      <th></th>\n",
       "      <th>34.62365962451697</th>\n",
       "      <th>78.0246928153624</th>\n",
       "      <th>0</th>\n",
       "    </tr>\n",
       "  </thead>\n",
       "  <tbody>\n",
       "    <tr>\n",
       "      <th>0</th>\n",
       "      <td>30.286711</td>\n",
       "      <td>43.894998</td>\n",
       "      <td>0</td>\n",
       "    </tr>\n",
       "    <tr>\n",
       "      <th>1</th>\n",
       "      <td>35.847409</td>\n",
       "      <td>72.902198</td>\n",
       "      <td>0</td>\n",
       "    </tr>\n",
       "    <tr>\n",
       "      <th>2</th>\n",
       "      <td>60.182599</td>\n",
       "      <td>86.308552</td>\n",
       "      <td>1</td>\n",
       "    </tr>\n",
       "    <tr>\n",
       "      <th>3</th>\n",
       "      <td>79.032736</td>\n",
       "      <td>75.344376</td>\n",
       "      <td>1</td>\n",
       "    </tr>\n",
       "    <tr>\n",
       "      <th>4</th>\n",
       "      <td>45.083277</td>\n",
       "      <td>56.316372</td>\n",
       "      <td>0</td>\n",
       "    </tr>\n",
       "  </tbody>\n",
       "</table>\n",
       "</div>"
      ],
      "text/plain": [
       "   34.62365962451697  78.0246928153624  0\n",
       "0          30.286711         43.894998  0\n",
       "1          35.847409         72.902198  0\n",
       "2          60.182599         86.308552  1\n",
       "3          79.032736         75.344376  1\n",
       "4          45.083277         56.316372  0"
      ]
     },
     "execution_count": 30,
     "metadata": {},
     "output_type": "execute_result"
    }
   ],
   "source": [
    "data_set = pd.read_csv(\"ex2data1.txt\", sep=\",\")\n",
    "# 쉼표(,)로 구분된 데이터들을 '메모장->Excel(.xlsx)->Excel(.csv)'에 저장 후 데이터들을 불러옴.\n",
    "\n",
    "data_set.head()\n",
    "# head()는 데이터들을 앞의 5개(0번째부터 4번째)만 보여줌."
   ]
  },
  {
   "cell_type": "code",
   "execution_count": 31,
   "id": "e63d9282",
   "metadata": {},
   "outputs": [],
   "source": [
    "x = data_set.values[:, 0:2]\n",
    "# 쉼표(,)로 구분된 데이터들의 행렬의 열 첫 번째 값들을 변수x에 저장\n",
    "\n",
    "y = data_set.values[:,2]\n",
    "# 쉬표(,)로 구분된 데이터들의 행렬의 열 두 번째 값들을 변수y에 저장"
   ]
  },
  {
   "cell_type": "code",
   "execution_count": 32,
   "id": "fc972dd3",
   "metadata": {},
   "outputs": [],
   "source": [
    "theta = np.random.rand(3)"
   ]
  },
  {
   "cell_type": "code",
   "execution_count": 33,
   "id": "6ee6948a",
   "metadata": {},
   "outputs": [],
   "source": [
    "mu = x.mean(axis=0)"
   ]
  },
  {
   "cell_type": "code",
   "execution_count": 34,
   "id": "7141ceca",
   "metadata": {},
   "outputs": [],
   "source": [
    "sigma = x.std(axis=0)"
   ]
  },
  {
   "cell_type": "code",
   "execution_count": 35,
   "id": "3e1918ae",
   "metadata": {},
   "outputs": [],
   "source": [
    "def standardize(x):\n",
    "    return (x - mu)/sigma"
   ]
  },
  {
   "cell_type": "code",
   "execution_count": 36,
   "id": "ee641296",
   "metadata": {},
   "outputs": [],
   "source": [
    "train_z = standardize(x)"
   ]
  },
  {
   "cell_type": "code",
   "execution_count": 37,
   "id": "8e631572",
   "metadata": {},
   "outputs": [],
   "source": [
    "def to_matrix(x):\n",
    "    x0 = np.ones([x.shape[0], 1])\n",
    "    return np.hstack([x0, x])"
   ]
  },
  {
   "cell_type": "code",
   "execution_count": 38,
   "id": "3c5b298d",
   "metadata": {},
   "outputs": [],
   "source": [
    "X = to_matrix(train_z)"
   ]
  },
  {
   "cell_type": "code",
   "execution_count": 39,
   "id": "7da46d67",
   "metadata": {},
   "outputs": [
    {
     "data": {
      "image/png": "[encoded data removed]",
      "text/plain": [
       "<Figure size 432x288 with 1 Axes>"
      ]
     },
     "metadata": {
      "needs_background": "light"
     },
     "output_type": "display_data"
    }
   ],
   "source": [
    "plt.plot(train_z[y == 1, 0], train_z[y == 1, 1], 'o')\n",
    "plt.plot(train_z[y == 0, 0], train_z[y == 0, 1], 'x')\n",
    "# x, y에 저장된 데이터들을 뿌린다\n",
    "plt.show()"
   ]
  },
  {
   "cell_type": "code",
   "execution_count": 40,
   "id": "01119a62",
   "metadata": {},
   "outputs": [],
   "source": [
    "def f(x):\n",
    "    return 1/(1+np.exp(-np.dot(x, theta)))"
   ]
  },
  {
   "cell_type": "code",
   "execution_count": 41,
   "id": "349a100b",
   "metadata": {},
   "outputs": [],
   "source": [
    "# 학습률\n",
    "learning_rate = 0.0001"
   ]
  },
  {
   "cell_type": "code",
   "execution_count": 42,
   "id": "ad6bf384",
   "metadata": {},
   "outputs": [],
   "source": [
    "# 반복횟수\n",
    "epoch = 5000"
   ]
  },
  {
   "cell_type": "code",
   "execution_count": 43,
   "id": "50f9d68b",
   "metadata": {
    "scrolled": true
   },
   "outputs": [],
   "source": [
    "for _ in range(epoch):\n",
    "    theta = theta - learning_rate*np.dot(f(X) - y, X)"
   ]
  },
  {
   "cell_type": "code",
   "execution_count": 44,
   "id": "a0a17d9d",
   "metadata": {},
   "outputs": [],
   "source": [
    "x0 = np.linspace(-2, 2, 100)"
   ]
  },
  {
   "cell_type": "code",
   "execution_count": 45,
   "id": "1e259d35",
   "metadata": {},
   "outputs": [
    {
     "data": {
      "image/png": "[encoded data removed]",
      "text/plain": [
       "<Figure size 432x288 with 1 Axes>"
      ]
     },
     "metadata": {
      "needs_background": "light"
     },
     "output_type": "display_data"
    }
   ],
   "source": [
    "plt.plot(train_z[y == 1,0], train_z[y == 1,1], 'o')\n",
    "plt.plot(train_z[y == 0,0], train_z[y == 0,1], 'x')\n",
    "plt.plot(x0, -(theta[0]+theta[1]*x0)/theta[2], linestyle = 'dashed')\n",
    "plt.show()"
   ]
  }
 ],
 "metadata": {
  "kernelspec": {
   "display_name": "Python 3",
   "language": "python",
   "name": "python3"
  },
  "language_info": {
   "codemirror_mode": {
    "name": "ipython",
    "version": 3
   },
   "file_extension": ".py",
   "mimetype": "text/x-python",
   "name": "python",
   "nbconvert_exporter": "python",
   "pygments_lexer": "ipython3",
   "version": "3.9.1"
  }
 },
 "nbformat": 4,
 "nbformat_minor": 5
}
